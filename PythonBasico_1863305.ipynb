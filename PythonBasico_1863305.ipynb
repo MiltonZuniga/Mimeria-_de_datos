{
 "cells": [
  {
   "cell_type": "markdown",
   "metadata": {},
   "source": [
    "# Ejercicio 1\n",
    "- Realiza una variable con tu matricula y realiza una secuencia de imprimir con tu nombre y tu matricula concatenados."
   ]
  },
  {
   "cell_type": "code",
   "execution_count": 1,
   "metadata": {},
   "outputs": [
    {
     "name": "stdout",
     "output_type": "stream",
     "text": [
      "Milton Humberto Zuñiga Cedillo     1863305\n"
     ]
    }
   ],
   "source": [
    "matricula = 1863305                          #Se guarda la matricula en un variable\n",
    "nombre = 'Milton Humberto Zuñiga Cedillo'    #Se guarda el nombre en una variable\n",
    "\n",
    "print(nombre, '   ', matricula)              #Imprime las variables guardadas"
   ]
  },
  {
   "cell_type": "markdown",
   "metadata": {},
   "source": [
    "# Ejercicio 2\n",
    "- Pidiendo el input del usuario pide dos números y crea una pequeña calculadora con los operadores básicos de suma, resta, multiplicación, división, y exponente."
   ]
  },
  {
   "cell_type": "code",
   "execution_count": 21,
   "metadata": {},
   "outputs": [
    {
     "name": "stdout",
     "output_type": "stream",
     "text": [
      "Ingrese el primer numero: 1\n",
      "Ingrese el segundo numero: 2\n",
      "Suma:           1 + 2 = 3\n",
      "Resta:          1 - 2 = -1\n",
      "Multiplicacion: 1 * 2 = 2\n",
      "Divisiones:     1 / 2 = 0.5\n",
      "                2 / 1 = 2.0\n",
      "Cuadrados:      1 ^ 2 = 1\n",
      "                2 ^ 2 = 4\n"
     ]
    }
   ],
   "source": [
    "n1 = int(input('Ingrese el primer numero: '))\n",
    "n2 = int(input('Ingrese el segundo numero: '))           #El usuario ingresa los dos numeros con los que se van a trabajar\n",
    "\n",
    "print('Suma:          ', n1 , '+', n2, '=', n1 + n2)\n",
    "print('Resta:         ', n1 , '-', n2, '=', n1 - n2)\n",
    "print('Multiplicacion:', n1 , '*', n2, '=', n1 * n2)\n",
    "print('Divisiones:    ', n1 , '/', n2, '=', n1 / n2)\n",
    "print('               ', n2 , '/', n1, '=', n2 / n1)\n",
    "print('Cuadrados:     ', n1 , '^', 2, '=', n1 ** 2)\n",
    "print('               ', n2 , '^', 2, '=', n2 ** 2)      #Se realizan las operaciones basicas con los dos numeros"
   ]
  },
  {
   "cell_type": "markdown",
   "metadata": {},
   "source": [
    "# Ejercicio 3\n",
    "- Con loop while o for, realiza una lista de 10 numeros multiplos de 3, y después realiza una función de loop que sume todos los números dentro del arreglo."
   ]
  },
  {
   "cell_type": "code",
   "execution_count": 98,
   "metadata": {},
   "outputs": [
    {
     "name": "stdout",
     "output_type": "stream",
     "text": [
      "Lista:  [3, 6, 9, 12, 15, 18, 21, 24, 27, 30]\n",
      "Suma:   165\n"
     ]
    }
   ],
   "source": [
    "        #Desclaracion de variables\n",
    "aux = 0\n",
    "i = 1\n",
    "multiplos = []       #multiplos es tipo lista, se pone asi para poderle agregar los elementos\n",
    "\n",
    "        #Se guarda en la lista multiplos los primeros 10 multiplos de 3\n",
    "for i in range(1,11):\n",
    "    aux = 3 * i\n",
    "    multiplos.append(aux)\n",
    "\n",
    "        #Imprime la lista y la suma de los multiplos\n",
    "print('Lista: ', multiplos)\n",
    "print('Suma:  ', sum(multiplos))"
   ]
  },
  {
   "cell_type": "markdown",
   "metadata": {},
   "source": [
    "# Ejercicio 4\n",
    "- Con una función de if else, revisar si un número es par o es impar.\n",
    "- Con una función de if else, revisar si un número es primo o no."
   ]
  },
  {
   "cell_type": "code",
   "execution_count": 1,
   "metadata": {},
   "outputs": [
    {
     "name": "stdout",
     "output_type": "stream",
     "text": [
      "Programa para analizar si un numero es par\n",
      "Ingrese un numero: 5\n",
      "El numero  5 es impar\n"
     ]
    }
   ],
   "source": [
    "        #Declaracion de variables\n",
    "contador = 0\n",
    "\n",
    "print('Programa para analizar si un numero es par')\n",
    "num1 = int(input('Ingrese un numero: '))\n",
    "if num1 % 2 == 0:                             #Si el modulo de 2 es 0 el numero es par\n",
    "    print('El numero ', num1, 'es par')\n",
    "else:\n",
    "    print('El numero ', num1, 'es impar')"
   ]
  },
  {
   "cell_type": "code",
   "execution_count": 15,
   "metadata": {},
   "outputs": [
    {
     "name": "stdout",
     "output_type": "stream",
     "text": [
      "Programa para analizar si un numero es primo\n",
      "Ingrese un numero: 7\n",
      "El numero 7 es primo\n"
     ]
    }
   ],
   "source": [
    "print('Programa para analizar si un numero es primo')\n",
    "num2 = int(input('Ingrese un numero: '))\n",
    "i = 1\n",
    "for i in range(1, num2+1):           #Se cuentan los numeros divisibles menores al que ingreso el usuario\n",
    "    if num2 % i == 0:\n",
    "        contador =+ 1\n",
    "        \n",
    "if contador > 2:\n",
    "    print('El numero', num2, 'no es primo')\n",
    "else:\n",
    "    print('El numero', num2, 'es primo')"
   ]
  },
  {
   "cell_type": "markdown",
   "metadata": {},
   "source": [
    "# Ejercicio 5\n",
    "- Utilizando diferentes clases en python, crea una calculadora con los operadores básicos de suma, resta, multiplicación, división, y exponente."
   ]
  },
  {
   "cell_type": "code",
   "execution_count": 32,
   "metadata": {},
   "outputs": [
    {
     "name": "stdout",
     "output_type": "stream",
     "text": [
      "Ingrese el primer numero: 1\n",
      "Ingrese el segundo numero: 2\n",
      "Suma:           1 + 2 = 3\n",
      "Resta:          1 - 2 = -1\n",
      "Multiplicacion: 1 * 2 = 2\n",
      "Divisiones:     1 / 2 = 0.5\n",
      "                2 / 1 = 2.0\n",
      "Cuadrados:      1 ^ 2 = 1.0\n",
      "                2 ^ 2 = 4.0\n",
      "Raiz cuadrada:  1 ^ 0.5 = 1.0\n",
      "                2 ^ 0.5 = 1.4142135623730951\n"
     ]
    }
   ],
   "source": [
    "import math as m\n",
    "n1 = int(input('Ingrese el primer numero: '))\n",
    "n2 = int(input('Ingrese el segundo numero: '))           #El usuario ingresa los dos numeros con los que se van a trabajar\n",
    "\n",
    "print('Suma:          ', n1 , '+', n2, '=', n1 + n2)\n",
    "print('Resta:         ', n1 , '-', n2, '=', n1 - n2)\n",
    "print('Multiplicacion:', n1 , '*', n2, '=', n1 * n2)\n",
    "print('Divisiones:    ', n1 , '/', n2, '=', n1 / n2)\n",
    "print('               ', n2 , '/', n1, '=', n2 / n1)\n",
    "print('Cuadrados:     ', n1 , '^', 2, '=', m.pow(n1,2))\n",
    "print('               ', n2 , '^', 2, '=', m.pow(n2,2))      #Se realizan las operaciones basicas con los dos numeros\n",
    "print('Raiz cuadrada: ', n1 , '^', 1/2, '=', m.sqrt(n1))\n",
    "print('               ', n2 , '^', 1/2, '=', m.sqrt(n2))"
   ]
  },
  {
   "cell_type": "markdown",
   "metadata": {},
   "source": [
    "# Ejercicios con estructuras básicas de python."
   ]
  },
  {
   "cell_type": "markdown",
   "metadata": {},
   "source": [
    "# Tuplas\n",
    "- Crear una variable flotante, integer, boleana y compleja e imprimir el tipo de variable que es."
   ]
  },
  {
   "cell_type": "code",
   "execution_count": 16,
   "metadata": {},
   "outputs": [
    {
     "name": "stdout",
     "output_type": "stream",
     "text": [
      "0.3     <class 'float'>\n",
      "3     <class 'int'>\n",
      "True     <class 'bool'>\n",
      "(3+2j)     <class 'complex'>\n"
     ]
    }
   ],
   "source": [
    "t = (0.3, 3, True, 3+2j)      #Se crea la tupla\n",
    "for i in range(len(t)):\n",
    "    print(t[i],'   ',type(t[i]))"
   ]
  },
  {
   "cell_type": "markdown",
   "metadata": {},
   "source": [
    "- Crear una tupla con valores enteros imprimir el primer y ultimo valor."
   ]
  },
  {
   "cell_type": "code",
   "execution_count": 18,
   "metadata": {},
   "outputs": [
    {
     "name": "stdout",
     "output_type": "stream",
     "text": [
      "Primer valor:  1\n",
      "Ultimo valor:  6\n"
     ]
    }
   ],
   "source": [
    "tupla = (1,2,3,4,5,6)\n",
    "print('Primer valor: ', tupla[0])\n",
    "print('Ultimo valor: ', tupla[len(tupla)-1])  \n",
    "#Se le resta uno por que len(tupla) nos dice cuantos valores tiene pero el posicionamiento dentro de esta empieza en el 0"
   ]
  },
  {
   "cell_type": "markdown",
   "metadata": {},
   "source": [
    "- Añadir 3 valores de string a la tupla."
   ]
  },
  {
   "cell_type": "code",
   "execution_count": 1,
   "metadata": {},
   "outputs": [
    {
     "name": "stdout",
     "output_type": "stream",
     "text": [
      "(1, 2, 3, 4, 5, 6, 'Hola', 'mi nombre', 'es Milton')\n"
     ]
    }
   ],
   "source": [
    "tupla = (1,2,3,4,5,6)\n",
    "tupla_l = list(tupla)\n",
    "tupla_l.append('Hola')\n",
    "tupla_l.append('mi nombre')\n",
    "tupla_l.append('es Milton')\n",
    "tupla = tuple(tupla_l)   #Se convierte la tupla en lista para poder agregarle valores y despues se hace tipo tupla de nuevo\n",
    "print(tupla)"
   ]
  },
  {
   "cell_type": "markdown",
   "metadata": {},
   "source": [
    "- Verificar si una variable existe dentro de la tupla."
   ]
  },
  {
   "cell_type": "code",
   "execution_count": 2,
   "metadata": {},
   "outputs": [
    {
     "name": "stdout",
     "output_type": "stream",
     "text": [
      "Ingrese un valor: 6\n",
      "El valor esta en la posocion 5\n"
     ]
    }
   ],
   "source": [
    "aux = 0\n",
    "tupla = (1,2,3,4,5,6)                     #Se crea la tupla\n",
    "x = int(input('Ingrese un valor: '))      #Se le pide el valor al usuario\n",
    "for i in range(len(tupla)): \n",
    "    if x == tupla[i]:\n",
    "        aux = aux + 1                     #Se recorre la tupla para ver si el valor que dio el usuario esta dentro \n",
    "if aux == 0:\n",
    "    print('El valor no esta dentro de la tupla')\n",
    "else:\n",
    "    print('El valor esta en la posocion' ,tupla.index(x))"
   ]
  },
  {
   "cell_type": "markdown",
   "metadata": {},
   "source": [
    "# Listas\n",
    "- Crear una lista con 40 elementos aleatorios enteros."
   ]
  },
  {
   "cell_type": "code",
   "execution_count": 25,
   "metadata": {},
   "outputs": [
    {
     "name": "stdout",
     "output_type": "stream",
     "text": [
      "[99, 23, 42, 7, 97, 96, 96, 3, 5, 40, 48, 49, 20, 50, 66, 21, 70, 79, 42, 34, 12, 50, 20, 10, 48, 92, 27, 84, 56, 17, 96, 66, 27, 98, 65, 77, 19, 24, 7, 48]\n"
     ]
    }
   ],
   "source": [
    "import random as r               #libreria que utilizaremos para obtener numeros aleatorios\n",
    "i = 0                            #Declaracion de variables\n",
    "lista = []\n",
    "\n",
    "for i in range(40):\n",
    "    x = int(r.random()*100)      #Se crea la lista a partir de numeros aleatorios con la funcion r.random()\n",
    "    lista.append(x)\n",
    "print(lista)"
   ]
  },
  {
   "cell_type": "markdown",
   "metadata": {},
   "source": [
    "- Con una funcion (def) crear dos listas nuevas a partir de la lista creada por numeros aleatorios, en la cual en una esten los elementos pares, y en la otra los elementos impares."
   ]
  },
  {
   "cell_type": "code",
   "execution_count": 26,
   "metadata": {},
   "outputs": [
    {
     "name": "stdout",
     "output_type": "stream",
     "text": [
      "Lista original:             [62, 84, 42, 41, 38, 67, 66, 73, 63, 53]\n",
      "Listra de numeros pares:    [62, 84, 42, 38, 66]\n",
      "Listra de numeros impares:  [41, 67, 73, 63, 53]\n"
     ]
    }
   ],
   "source": [
    "import random as r               #libreria que utilizaremos para obtener numeros aleatorios\n",
    "i = 0                            #Declaracion de variables\n",
    "lista = []\n",
    "\n",
    "for i in range(10):\n",
    "    x = int(r.random()*100)      #Se crea la lista a partir de numeros aleatorios con la funcion r.random()\n",
    "    lista.append(x)\n",
    "\n",
    "print('Lista original:            ',lista)\n",
    "def separar(a):\n",
    "    j = 0\n",
    "    lista_p = []\n",
    "    lista_i = []\n",
    "    for j in range(10):\n",
    "        if lista[j] % 2 == 0:\n",
    "            lista_p.append(lista[j])\n",
    "        else:\n",
    "            lista_i.append(lista[j])\n",
    "    print('Listra de numeros pares:   ',lista_p)\n",
    "    print('Listra de numeros impares: ',lista_i)\n",
    "    \n",
    "separar(lista)"
   ]
  },
  {
   "cell_type": "markdown",
   "metadata": {},
   "source": [
    "- Crear dos variables con la longitud de ambas listas nuevas e imprimir las variables."
   ]
  },
  {
   "cell_type": "code",
   "execution_count": 27,
   "metadata": {},
   "outputs": [
    {
     "name": "stdout",
     "output_type": "stream",
     "text": [
      "Lista original:             [5, 55, 30, 80, 19, 55, 0, 51, 14, 2]\n",
      "Listra de numeros pares:    [30, 80, 0, 14, 2]\n",
      "Listra de numeros impares:  [5, 55, 19, 55, 51]\n",
      "La lista de numeros pares tiene  5 elementos\n",
      "La lista de numeros impares tiene  5 elementos\n"
     ]
    }
   ],
   "source": [
    "import random as r               #libreria que utilizaremos para obtener numeros aleatorios\n",
    "i = 0                            #Declaracion de variables\n",
    "lista = []\n",
    "n_p = 0\n",
    "n_i = 0\n",
    "\n",
    "for i in range(10):\n",
    "    x = int(r.random()*100)      #Se crea la lista a partir de numeros aleatorios con la funcion r.random()\n",
    "    lista.append(x)\n",
    "\n",
    "print('Lista original:            ',lista)\n",
    "def separar(a):\n",
    "    j = 0\n",
    "    lista_p = []\n",
    "    lista_i = []\n",
    "    for j in range(10):\n",
    "        if lista[j] % 2 == 0:\n",
    "            lista_p.append(lista[j])\n",
    "        else:\n",
    "            lista_i.append(lista[j])\n",
    "    print('Listra de numeros pares:   ',lista_p)\n",
    "    print('Listra de numeros impares: ',lista_i)\n",
    "    print('La lista de numeros pares tiene ',len(lista_p) , 'elementos')\n",
    "    print('La lista de numeros impares tiene ',len(lista_i) , 'elementos')\n",
    "    \n",
    "separar(lista)"
   ]
  },
  {
   "cell_type": "markdown",
   "metadata": {},
   "source": [
    "- Ordenar los elementos de la lista par de mayor a menor, y los de la lista impar de menor a mayor."
   ]
  },
  {
   "cell_type": "code",
   "execution_count": 61,
   "metadata": {},
   "outputs": [
    {
     "name": "stdout",
     "output_type": "stream",
     "text": [
      "Lista original:             [81, 33, 79, 71, 23, 10, 44, 51, 12, 52]\n",
      "Listra de numeros pares:    [10, 44, 12, 52]\n",
      "Listra de numeros impares:  [81, 33, 79, 71, 23, 51]\n",
      "La lista de numeros pares tiene  4 elementos\n",
      "La lista de numeros impares tiene  6 elementos\n",
      "Listra de numeros pares ordenados:    [52, 44, 12, 10]\n",
      "Listra de numeros impares ordenados:  [23, 33, 51, 71, 79, 81]\n"
     ]
    }
   ],
   "source": [
    "import random as r               #libreria que utilizaremos para obtener numeros aleatorios\n",
    "i = 0                            #Declaracion de variables\n",
    "lista = []\n",
    "n_p = 0\n",
    "n_i = 0\n",
    "\n",
    "for i in range(10):\n",
    "    x = int(r.random()*100)      #Se crea la lista a partir de numeros aleatorios con la funcion r.random()\n",
    "    lista.append(x)\n",
    "\n",
    "print('Lista original:            ',lista)\n",
    "def separar(a):\n",
    "    j = 0\n",
    "    lista_p = []\n",
    "    lista_i = []\n",
    "    for j in range(10):\n",
    "        if lista[j] % 2 == 0:\n",
    "            lista_p.append(lista[j])\n",
    "        else:\n",
    "            lista_i.append(lista[j]) \n",
    "    \n",
    "    print('Listra de numeros pares:   ',lista_p)\n",
    "    print('Listra de numeros impares: ',lista_i)\n",
    "    print('La lista de numeros pares tiene ',len(lista_p) , 'elementos')\n",
    "    print('La lista de numeros impares tiene ',len(lista_i) , 'elementos')\n",
    "    print('Listra de numeros pares ordenados:   ',sorted(lista_p,reverse=True))\n",
    "    print('Listra de numeros impares ordenados: ',sorted(lista_i))\n",
    "    \n",
    "separar(lista)"
   ]
  },
  {
   "cell_type": "markdown",
   "metadata": {},
   "source": [
    "- Utilizar al menos cuatro de las funciones de listas en python en la lista original de 40 elementos."
   ]
  },
  {
   "cell_type": "code",
   "execution_count": 70,
   "metadata": {},
   "outputs": [
    {
     "name": "stdout",
     "output_type": "stream",
     "text": [
      "Lista: [61, 67, 66, 21, 31, 62, 47, 35, 49, 84, 40, 35, 50, 10, 62, 49, 18, 91, 99, 69, 20, 68, 91, 22, 25, 85, 49, 79, 59, 21, 30, 43, 0, 61, 17, 35, 5, 36, 99, 76]\n",
      "Longitud: 40\n",
      "Maximo:   99\n",
      "Minimo:   0\n",
      "Suma:     1967\n"
     ]
    }
   ],
   "source": [
    "import random as r               #libreria que utilizaremos para obtener numeros aleatorios\n",
    "i = 0                            #Declaracion de variables\n",
    "lista = []\n",
    "\n",
    "for i in range(40):\n",
    "    x = int(r.random()*100)      #Se crea la lista a partir de numeros aleatorios con la funcion r.random()\n",
    "    lista.append(x)\n",
    "print('Lista:',lista)\n",
    "print('Longitud:',len(lista))\n",
    "print('Maximo:  ',max(lista))\n",
    "print('Minimo:  ',min(lista))\n",
    "print('Suma:    ',sum(lista))"
   ]
  },
  {
   "cell_type": "markdown",
   "metadata": {},
   "source": [
    "# Diccionarios\n",
    "- Crear un diccionario de 6 personas que conozcas con su primer nombre y su edad."
   ]
  },
  {
   "cell_type": "code",
   "execution_count": 47,
   "metadata": {},
   "outputs": [
    {
     "name": "stdout",
     "output_type": "stream",
     "text": [
      "{1: ['Estibalyz', 20], 2: ['Nestor', 14], 3: ['Raquel', 46], 4: ['Marcelo', 21], 5: ['Monse', 13], 6: ['Miguel', 15]}\n"
     ]
    }
   ],
   "source": [
    "diccionario = {1:['Estibalyz',20], 2:['Nestor',14], 3:['Raquel',46], 4:['Marcelo',21], 5:['Monse',13], 6:['Miguel',15]}\n",
    "print(diccionario)"
   ]
  },
  {
   "cell_type": "markdown",
   "metadata": {},
   "source": [
    "- Crear una lista con los valores de la edad y reacomodar la lista de menor a mayor valor."
   ]
  },
  {
   "cell_type": "code",
   "execution_count": 127,
   "metadata": {},
   "outputs": [
    {
     "name": "stdout",
     "output_type": "stream",
     "text": [
      "Edades ordenadas:  [13, 14, 15, 20, 21, 46]\n"
     ]
    }
   ],
   "source": [
    "diccionario = {1:['Estibalyz',20], 2:['Nestor',14], 3:['Raquel',46], 4:['Marcelo',21], 5:['Monse',13], 6:['Miguel',15]}\n",
    "edades = []\n",
    "for i in range(1,7):\n",
    "    edades.append(diccionario[i][1])\n",
    "print('Edades ordenadas: ',sorted(edades))      #La funcion sorted es para ordenar las edades de menor a mayor"
   ]
  },
  {
   "cell_type": "markdown",
   "metadata": {},
   "source": [
    "- Usando el diccionario y un loop, imprimir solo los nombres."
   ]
  },
  {
   "cell_type": "code",
   "execution_count": 128,
   "metadata": {},
   "outputs": [
    {
     "name": "stdout",
     "output_type": "stream",
     "text": [
      "Nombres:\n",
      "1 Estibalyz\n",
      "2 Nestor\n",
      "3 Raquel\n",
      "4 Marcelo\n",
      "5 Monse\n",
      "6 Miguel\n"
     ]
    }
   ],
   "source": [
    "diccionario = {1:['Estibalyz',20], 2:['Nestor',14], 3:['Raquel',46], 4:['Marcelo',21], 5:['Monse',13], 6:['Miguel',15]}\n",
    "print('Nombres:')\n",
    "for i in range(1,7):\n",
    "    print(i, diccionario[i][0])"
   ]
  },
  {
   "cell_type": "markdown",
   "metadata": {},
   "source": [
    "+ Añadir dos personas nuevas a tu diccionario, incluyendo edad."
   ]
  },
  {
   "cell_type": "code",
   "execution_count": 4,
   "metadata": {},
   "outputs": [
    {
     "name": "stdout",
     "output_type": "stream",
     "text": [
      "Introduzca los datos de las personas que quiera agregar: \n",
      "Nombre: Lucio\n",
      "Edad: 21\n",
      "Nombre: Gibran\n",
      "Edad: 28\n",
      "{1: ['Estibalyz', 20], 2: ['Nestor', 14], 3: ['Raquel', 46], 4: ['Marcelo', 21], 5: ['Monse', 13], 6: ['Miguel', 15], 7: ['Lucio', 21], 8: ['Gibran', 28]}\n"
     ]
    }
   ],
   "source": [
    "diccionario = {1:['Estibalyz',20], 2:['Nestor',14], 3:['Raquel',46], 4:['Marcelo',21], 5:['Monse',13], 6:['Miguel',15]}\n",
    "print('Introduzca los datos de las personas que quiera agregar: ')\n",
    "n1 = input('Nombre: ')\n",
    "e1 = int(input('Edad: '))\n",
    "n2 = input('Nombre: ')\n",
    "e2 = int(input('Edad: '))\n",
    "diccionario[7] = [n1, e1]         #Al hacer esto se agrega automanticamente al diccionario\n",
    "diccionario[8] = [n2, e2]\n",
    "print(diccionario)"
   ]
  },
  {
   "cell_type": "markdown",
   "metadata": {},
   "source": [
    "# Sets\n",
    "- Crea un set con 100 numeros aleatorios enteros del 1 al 25."
   ]
  },
  {
   "cell_type": "code",
   "execution_count": 6,
   "metadata": {},
   "outputs": [
    {
     "name": "stdout",
     "output_type": "stream",
     "text": [
      "Set:  {1, 2, 4, 5, 6, 7, 8, 9, 10, 11, 12, 13, 14, 15, 16, 17, 18, 19, 20, 21, 22, 23, 24, 25}\n"
     ]
    }
   ],
   "source": [
    "import random as r\n",
    "\n",
    "lista = []\n",
    "for i in range(100):\n",
    "    x = r.randint(1, 25)\n",
    "    lista.append(x)               #Se crea una lista de 100 elementos con numeros aleatorios enteros entre 1 y 25\n",
    "    lista = list(set(lista))      #Se convierte la lista a set y luego se vuelve a poner a lista para poder seguir editando\n",
    "\n",
    "print('Set: ', set(lista))"
   ]
  },
  {
   "cell_type": "markdown",
   "metadata": {},
   "source": [
    "- Comprueba la longitud de tu set."
   ]
  },
  {
   "cell_type": "code",
   "execution_count": 7,
   "metadata": {},
   "outputs": [
    {
     "name": "stdout",
     "output_type": "stream",
     "text": [
      "Set:  {1, 2, 3, 4, 5, 6, 7, 8, 9, 10, 11, 12, 13, 14, 15, 16, 17, 18, 19, 20, 21, 22, 23, 24, 25}\n",
      "Longitud: 25\n"
     ]
    }
   ],
   "source": [
    "import random as r\n",
    "\n",
    "lista = []\n",
    "for i in range(100):\n",
    "    x = r.randint(1, 25)\n",
    "    lista.append(x)\n",
    "    lista = list(set(lista))\n",
    "\n",
    "print('Set: ', set(lista))\n",
    "print('Longitud:', len(lista))"
   ]
  },
  {
   "cell_type": "markdown",
   "metadata": {},
   "source": [
    "- Crea una lista de 5 numeros aleatorios del 1 al 10 y comprueba si cada valor aparece en el set inicial."
   ]
  },
  {
   "cell_type": "code",
   "execution_count": 20,
   "metadata": {},
   "outputs": [
    {
     "name": "stdout",
     "output_type": "stream",
     "text": [
      "Set:  {1, 2, 3, 4, 5, 6, 7, 8, 9, 10, 11, 13, 14, 15, 16, 17, 18, 19, 20, 21, 22, 23, 24, 25}\n",
      "Longitud: 24\n",
      "lista random: [5, 3, 2, 1, 8]\n",
      "5 aparece en el set, posicion 4\n",
      "3 aparece en el set, posicion 2\n",
      "2 aparece en el set, posicion 1\n",
      "1 aparece en el set, posicion 0\n",
      "8 aparece en el set, posicion 7\n"
     ]
    }
   ],
   "source": [
    "import random as r\n",
    "\n",
    "lista = []\n",
    "lista_r = []\n",
    "\n",
    "for i in range(100):\n",
    "    x = r.randint(1, 25)\n",
    "    lista.append(x)\n",
    "    lista = list(set(lista))\n",
    "\n",
    "print('Set: ', set(lista))\n",
    "print('Longitud:', len(lista))\n",
    "\n",
    "for i in range(5):\n",
    "    x = r.randint(1, 10)\n",
    "    lista_r.append(x)\n",
    "print('lista random:',lista_r)\n",
    "\n",
    "for i in range(5):\n",
    "    for j  in range(len(lista)):\n",
    "        if lista_r[i] == lista[j]:\n",
    "            print(lista_r[i], 'aparece en el set, posicion', lista.index(lista_r[i]))"
   ]
  },
  {
   "cell_type": "code",
   "execution_count": null,
   "metadata": {},
   "outputs": [],
   "source": []
  }
 ],
 "metadata": {
  "kernelspec": {
   "display_name": "Python 3",
   "language": "python",
   "name": "python3"
  },
  "language_info": {
   "codemirror_mode": {
    "name": "ipython",
    "version": 3
   },
   "file_extension": ".py",
   "mimetype": "text/x-python",
   "name": "python",
   "nbconvert_exporter": "python",
   "pygments_lexer": "ipython3",
   "version": "3.8.3"
  }
 },
 "nbformat": 4,
 "nbformat_minor": 4
}
